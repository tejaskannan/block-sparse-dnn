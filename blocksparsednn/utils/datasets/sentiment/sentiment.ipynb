{
  "nbformat": 4,
  "nbformat_minor": 0,
  "metadata": {
    "colab": {
      "name": "sentiment.ipynb",
      "provenance": [],
      "collapsed_sections": []
    },
    "kernelspec": {
      "name": "python3",
      "display_name": "Python 3"
    }
  },
  "cells": [
    {
      "cell_type": "code",
      "metadata": {
        "id": "08vjU2Ze270_"
      },
      "source": [
        "import json\n",
        "import tensorflow as tf\n",
        "import csv\n",
        "import random\n",
        "import numpy as np\n",
        "import pandas as pd \n",
        "import random\n",
        "import matplotlib.pyplot as plt\n",
        "import h5py\n",
        "import os\n",
        "import google.colab\n",
        "from utils.file_utils import make_dir\n",
        "\n",
        "\n",
        "from tensorflow.keras.preprocessing.text import Tokenizer\n",
        "from tensorflow.keras.preprocessing.sequence import pad_sequences\n",
        "from tensorflow.keras.utils import to_categorical\n",
        "from tensorflow.keras import regularizers"
      ],
      "execution_count": 37,
      "outputs": []
    },
    {
      "cell_type": "markdown",
      "metadata": {
        "id": "SA4L5FYRE6jP"
      },
      "source": [
        "##Preprocessing"
      ]
    },
    {
      "cell_type": "code",
      "metadata": {
        "colab": {
          "base_uri": "https://localhost:8080/"
        },
        "id": "If2yLCaT3Ehp",
        "outputId": "9c5b78c1-04e9-4c86-9dbd-5a461b8547df"
      },
      "source": [
        "#download the dataset.\n",
        "!wget --no-check-certificate \\\n",
        "    https://storage.googleapis.com/laurencemoroney-blog.appspot.com/training_cleaned.csv \\\n",
        "    -O /tmp/training_cleaned.csv\n"
      ],
      "execution_count": 28,
      "outputs": [
        {
          "output_type": "stream",
          "text": [
            "--2020-11-30 04:15:19--  https://storage.googleapis.com/laurencemoroney-blog.appspot.com/training_cleaned.csv\n",
            "Resolving storage.googleapis.com (storage.googleapis.com)... 74.125.203.128, 74.125.204.128, 64.233.189.128, ...\n",
            "Connecting to storage.googleapis.com (storage.googleapis.com)|74.125.203.128|:443... connected.\n",
            "HTTP request sent, awaiting response... 200 OK\n",
            "Length: 238942690 (228M) [application/octet-stream]\n",
            "Saving to: ‘/tmp/training_cleaned.csv’\n",
            "\n",
            "/tmp/training_clean 100%[===================>] 227.87M  47.5MB/s    in 4.8s    \n",
            "\n",
            "2020-11-30 04:15:25 (47.5 MB/s) - ‘/tmp/training_cleaned.csv’ saved [238942690/238942690]\n",
            "\n"
          ],
          "name": "stdout"
        }
      ]
    },
    {
      "cell_type": "code",
      "metadata": {
        "colab": {
          "base_uri": "https://localhost:8080/"
        },
        "id": "frBNuyiQ4Wsr",
        "outputId": "a1f32321-9499-4cdd-c95d-9a1b355032b3"
      },
      "source": [
        "#read into pandas to preprocess.\n",
        "df = pd.read_csv(\"/tmp/training_cleaned.csv\")\n",
        "print(df.shape)\n",
        "\n",
        "#dropping all the redundant columns. all we need is the tweet (column 5) and label(column 0).\n",
        "df.drop(df.columns[1:5], axis=1, inplace=True)\n",
        "print(df.shape)\n",
        "\n",
        "#name the columns.\n",
        "df.columns = [\"label\", \"text\"]\n",
        "print(df.columns)\n",
        "\n",
        "#change the label 4 to 1. Label 1 will represent positive sentiment. \n",
        "df.loc[df.label == 4, \"label\"] = 1\n",
        "print(df.tail(10))\n",
        "\n",
        "#cast to a list of dictionaries.\n",
        "data = df.to_dict(\"records\") "
      ],
      "execution_count": 29,
      "outputs": [
        {
          "output_type": "stream",
          "text": [
            "(1599999, 6)\n",
            "(1599999, 2)\n",
            "Index(['label', 'text'], dtype='object')\n",
            "         label                                               text\n",
            "1599989      1                              WOOOOO! Xbox is back \n",
            "1599990      1  @rmedina @LaTati Mmmm  That sounds absolutely ...\n",
            "1599991      1                  ReCoVeRiNg FrOm ThE lOnG wEeKeNd \n",
            "1599992      1                                  @SCOOBY_GRITBOYS \n",
            "1599993      1  @Cliff_Forster Yeah, that does work better tha...\n",
            "1599994      1  Just woke up. Having no school is the best fee...\n",
            "1599995      1  TheWDB.com - Very cool to hear old Walt interv...\n",
            "1599996      1  Are you ready for your MoJo Makeover? Ask me f...\n",
            "1599997      1  Happy 38th Birthday to my boo of alll time!!! ...\n",
            "1599998      1  happy #charitytuesday @theNSPCC @SparksCharity...\n"
          ],
          "name": "stdout"
        }
      ]
    },
    {
      "cell_type": "code",
      "metadata": {
        "colab": {
          "base_uri": "https://localhost:8080/",
          "height": 390
        },
        "id": "7MUeNcOp6Z9K",
        "outputId": "0afc34e1-8aec-4fb2-9c47-0c34cdd0c8f6"
      },
      "source": [
        "#shuffle the data and downsize from 1.6M to 100K train, 10k test, 10k validation.\n",
        "random.shuffle(data)\n",
        "\n",
        "data = data[:120000]\n",
        "\n",
        "print(data[:50])\n",
        "\n",
        "print(data[:10])\n",
        "\n",
        "num_negative = 0\n",
        "num_positive = 0 \n",
        "\n",
        "for i in data:\n",
        "  if i[\"label\"] == 0:\n",
        "    num_positive+=1\n",
        "  else:\n",
        "    num_negative +=1 \n",
        "\n",
        "#As seen here, we have a balanced distribution of positives and negatives in the downsized dataset.\n",
        "import matplotlib.pyplot as plt\n",
        "fig = plt.figure()\n",
        "ax = fig.add_axes([0,0,1,1])\n",
        "labels = ['Positives', \"Negatives\"]\n",
        "tallies = [num_positive, num_negative]\n",
        "ax.bar(labels,tallies)\n",
        "plt.show()"
      ],
      "execution_count": 30,
      "outputs": [
        {
          "output_type": "stream",
          "text": [
            "[{'label': 1, 'text': 'I love remembering the programs I used to watch when I was little  Like Captain Planet, Xmen, Spiderman, Tundercats, count duckula!! lol'}, {'label': 1, 'text': '@lizstrauss thank you '}, {'label': 1, 'text': 'Night at the Musuem was hilarious. I totally want to watch it again! &quot;Awkward.....&quot; '}, {'label': 1, 'text': \"@sweetlilmzmia hun,u forgot 86 after the cow  and that's the pic i didn't wanna post haha! Hawt )\"}, {'label': 1, 'text': 'going to Disney '}, {'label': 0, 'text': \"Not really feeling like myself these past couple days. I've really been white knuckling it \"}, {'label': 1, 'text': '@LaurHogan thank you missus hogan,im finally here  xxx'}, {'label': 1, 'text': 'Cooking Curry Chicken,Rice,Potatoes,green peas an corn!!! Its about to go real crazy in this kitchen! Dinner going to be Ovah tonite! '}, {'label': 1, 'text': 'In Cleveland, Ohio. Been there done that. '}, {'label': 1, 'text': '#Music Monday: dead and gone by JT!!!! happy music monday everybody, I LOVE MUSIC '}, {'label': 0, 'text': 'Omg did I really just make a HuGE pizza and eat 4 giant slices. And this is why I think the scale lies to me '}, {'label': 1, 'text': \"I'll be in London in 24hours. Strange thought, but I like it. @King's College on Friday, rest of the week fun time \"}, {'label': 0, 'text': 'I could be going to wonderland with ray and Brittany today, but I have to go rehearse for my moviee '}, {'label': 0, 'text': '@ClothDiaperMom oh no, I hope he is okay '}, {'label': 1, 'text': 'Work @ 5 @ BC2 ! Visit me '}, {'label': 1, 'text': 'looks like another very sunny day in Aberdeenshire '}, {'label': 1, 'text': 'I love Sundays.... Great sermon, yummy lunch, now enjoying my day with my love and family. Happy Sunday '}, {'label': 0, 'text': '@caityyyyyy aww bubba ! have you studied yett ? ive been out all wknd and i just started ! and its so damn hard to remember errthing ! '}, {'label': 1, 'text': \"@adamcohen a  meetup is cooking for Mon night &amp; there are 2 on Tue night. You have 3 to choose from!   aren't I helpful?!\"}, {'label': 1, 'text': 'The sun is shining '}, {'label': 0, 'text': '@smashingmag first thing i notice is in the picture, they are defining ISBN has CHAR(13) and not VARCHAR  what about ISBN11 ?!'}, {'label': 1, 'text': '@glossymom yeah i am getting to that point. Need a new phone anyway so its gonna happen real soon!! '}, {'label': 1, 'text': '@kujakupoet well one of them has now appeared   will wait and repeat the process. strange, these people have been following a long time.'}, {'label': 0, 'text': 'Doing some memorizing ( Too much to handle! '}, {'label': 0, 'text': \"Well,slept my Saturday away.Didn't get what I wanted done today.Long night ahead and very early morning again tomorrow.Goodbye weekend \"}, {'label': 0, 'text': 'why do girls get mad on silly stuff - the fight was bout not loving a singer she loves - how silly could it get .. day 3 no calls nor sms '}, {'label': 1, 'text': '@CrimsonRaven Not &quot;work&quot; exactly - just thought that one missed a chance for a cheap shot at Tangent '}, {'label': 0, 'text': \"@treadonmydreams Parts of Harder to Breathe don't work  Damnit.\"}, {'label': 0, 'text': 'ugh, i hate it when you have bad dreams and cant fall back asleep  off to pull 12hrs'}, {'label': 1, 'text': \"eating a mcflurry and watching me some degrassi  becky's house later!\"}, {'label': 0, 'text': \"@emilyback i don't !!!!! \"}, {'label': 0, 'text': \"i'm sooo tired. been up since 9am and since then running errands and stuff. i wanted to go out tonight but i think i'll fall asleep soon. \"}, {'label': 1, 'text': 'That was a long morning, but i earned Â£40 good times '}, {'label': 0, 'text': '... And here starts the yelling.  must get out of house!!!!'}, {'label': 0, 'text': 'having the worst day at work! delt with some bitchy ass customers and top of it, my BF is a fuckin jerk! '}, {'label': 1, 'text': '@elektronaut All is well, hurrah. '}, {'label': 1, 'text': '@pakkoidea Interesting! Such as? '}, {'label': 1, 'text': \"@seanmurphymusic sound u had so much fun in indonesia  i really miss indonesia now. can't wait to go back there! hehe.. \"}, {'label': 0, 'text': '@boomstickplease thanks but both are 403 Forbidden  but i know what pics your talking about LOLZ'}, {'label': 1, 'text': \"@SteveNabors YAY!  now just come make my dog shut up and i'll be your best friend forever hahah\"}, {'label': 1, 'text': '@wanderblah That looks like a life that could be fun, depending on which way or how much you swing '}, {'label': 1, 'text': '@shauniactive aww thanks, i might keep it like this for a while '}, {'label': 1, 'text': '@alanaCOOPS OH. well, danggit you suck for reminding me -.- well BRAH, you arent going to, caz you love me '}, {'label': 0, 'text': '@krismac24 @jill777 even if we have front row?? I miss our seats '}, {'label': 0, 'text': \"I've been attacked! Guardian readers hate twitter but they hate me more  I was only trying to support twitterature http://bit.ly/1ahwZT\"}, {'label': 0, 'text': '@heidimontag studying (or at least trying to) for uni final exams! '}, {'label': 1, 'text': '@daisyx Oops I mean the rehearsal dinner.. '}, {'label': 0, 'text': \"Off to Martin's apt in about an hour, then off again, last day of the con starts. And then... Work \"}, {'label': 1, 'text': 'had a good day, feel weird.. in a good way. '}, {'label': 0, 'text': '@rararaco bye bye  miss you lots xxx'}]\n",
            "[{'label': 1, 'text': 'I love remembering the programs I used to watch when I was little  Like Captain Planet, Xmen, Spiderman, Tundercats, count duckula!! lol'}, {'label': 1, 'text': '@lizstrauss thank you '}, {'label': 1, 'text': 'Night at the Musuem was hilarious. I totally want to watch it again! &quot;Awkward.....&quot; '}, {'label': 1, 'text': \"@sweetlilmzmia hun,u forgot 86 after the cow  and that's the pic i didn't wanna post haha! Hawt )\"}, {'label': 1, 'text': 'going to Disney '}, {'label': 0, 'text': \"Not really feeling like myself these past couple days. I've really been white knuckling it \"}, {'label': 1, 'text': '@LaurHogan thank you missus hogan,im finally here  xxx'}, {'label': 1, 'text': 'Cooking Curry Chicken,Rice,Potatoes,green peas an corn!!! Its about to go real crazy in this kitchen! Dinner going to be Ovah tonite! '}, {'label': 1, 'text': 'In Cleveland, Ohio. Been there done that. '}, {'label': 1, 'text': '#Music Monday: dead and gone by JT!!!! happy music monday everybody, I LOVE MUSIC '}]\n"
          ],
          "name": "stdout"
        },
        {
          "output_type": "display_data",
          "data": {
            "image/png": "[encoded data removed]",
            "text/plain": [
              "<Figure size 432x288 with 1 Axes>"
            ]
          },
          "metadata": {
            "tags": [],
            "needs_background": "light"
          }
        }
      ]
    },
    {
      "cell_type": "markdown",
      "metadata": {
        "id": "G3Cx6ZsmE0RU"
      },
      "source": [
        "##Tokenizing and Padding the Tweets"
      ]
    },
    {
      "cell_type": "code",
      "metadata": {
        "colab": {
          "base_uri": "https://localhost:8080/"
        },
        "id": "KxWFWplcBwTF",
        "outputId": "672ab647-2f2e-4ea6-fae9-e6fbff753ae2"
      },
      "source": [
        "tweets = []\n",
        "labels = [] \n",
        "\n",
        "for i in data:\n",
        "  tweets.append(i[\"text\"])\n",
        "  labels.append(i[\"label\"])\n",
        "\n",
        "tokenizer = Tokenizer() # no upper limit on number of words. \n",
        "tokenizer.fit_on_texts(tweets)\n",
        "\n",
        "word_index = tokenizer.word_index \n",
        "vocab_size = len(word_index) # number of unique words discovered in the corpus. \n",
        "print(vocab_size)\n",
        "\n",
        "#tokenizing the sentences into sequences of tokens. \n",
        "sequences = tokenizer.texts_to_sequences(tweets)\n",
        "\n",
        "#padding sequences of tokens to ensure they're the same length (which I set to 32) here. Tweets are short.\n",
        "padded = pad_sequences(sequences, maxlen=32, padding = \"post\", truncating=\"post\")"
      ],
      "execution_count": 31,
      "outputs": [
        {
          "output_type": "stream",
          "text": [
            "112645\n"
          ],
          "name": "stdout"
        }
      ]
    },
    {
      "cell_type": "markdown",
      "metadata": {
        "id": "_E2Vq1O-Nsmq"
      },
      "source": [
        "##Split into Test and Training Sets."
      ]
    },
    {
      "cell_type": "code",
      "metadata": {
        "colab": {
          "base_uri": "https://localhost:8080/"
        },
        "id": "JEPXhO6MNRbn",
        "outputId": "f108864d-4028-487c-b3e4-0085cbb18208"
      },
      "source": [
        "#100k train, 10k test, 10k validation. \n",
        "\n",
        "validation_tweets = padded[:10000] \n",
        "validation_labels = np.array(labels[:10000])\n",
        "\n",
        "test_tweets = padded[10000:20000]\n",
        "test_labels = np.array(labels[10000:20000])\n",
        "\n",
        "train_tweets = padded[20000:]\n",
        "train_labels = np.array(labels[20000:])\n",
        "\n",
        "\n",
        "print(len(validation_tweets), len(validation_labels))\n",
        "print(len(test_tweets), len(test_labels))\n",
        "print(len(train_tweets), len(train_labels))\n",
        "\n",
        "\n",
        "print(type(train_tweets))\n",
        "print(train_tweets.shape)\n",
        "print(type(train_labels))\n",
        "print(train_labels.shape)\n"
      ],
      "execution_count": 32,
      "outputs": [
        {
          "output_type": "stream",
          "text": [
            "10000 10000\n",
            "10000 10000\n",
            "100000 100000\n",
            "<class 'numpy.ndarray'>\n",
            "(100000, 32)\n",
            "<class 'numpy.ndarray'>\n",
            "(100000,)\n"
          ],
          "name": "stdout"
        }
      ]
    },
    {
      "cell_type": "markdown",
      "metadata": {
        "id": "jrJ_m_WlUPP6"
      },
      "source": [
        "##Writing into .h5 files."
      ]
    },
    {
      "cell_type": "code",
      "metadata": {
        "colab": {
          "base_uri": "https://localhost:8080/"
        },
        "id": "_tkuEqgtU_ci",
        "outputId": "95117005-7067-4b5b-98ae-27762535337d"
      },
      "source": [
        "from google.colab import drive\n",
        "drive.mount('/content/drive')\n",
        "\n",
        "#%cd drive/MyDrive/cmsc_35200_set/\n",
        "!pwd"
      ],
      "execution_count": 33,
      "outputs": [
        {
          "output_type": "stream",
          "text": [
            "Drive already mounted at /content/drive; to attempt to forcibly remount, call drive.mount(\"/content/drive\", force_remount=True).\n",
            "/content/drive/My Drive/cmsc_35200_set\n"
          ],
          "name": "stdout"
        }
      ]
    },
    {
      "cell_type": "code",
      "metadata": {
        "id": "U5mcP9ZCQIqS"
      },
      "source": [
        "ROOT_PATH = \"/content/drive/MyDrive/cmsc_35200_set/utils/datasets/sentiment/\"\n",
        "#TEST_PATH = os.path.join(ROOT_PATH, \"test\")\n",
        "#VALIDATION_PATH = os.path.join(ROOT_PATH, \"validation\")\n",
        "#TRAIN_PATH = os.path.join(ROOT_PATH, \"train\")\n",
        "\n",
        "def write_h5py_dataset(sequences: np.ndarray, labels: np.ndarray, path: str):\n",
        "    make_dir(os.path.split(path)[0])\n",
        "\n",
        "    assert sequences.shape[0] == labels.shape[0], 'Misaligned images and labels'\n",
        "\n",
        "    with h5py.File(path, 'w') as fout:\n",
        "        inputs = fout.create_dataset(\"inputs\", sequences.shape, dtype='i')\n",
        "        inputs.write_direct(sequences)\n",
        "\n",
        "        output = fout.create_dataset(\"output\", (len(labels), ), dtype='i')\n",
        "        output.write_direct(labels)\n",
        "\n",
        "\n",
        "write_h5py_dataset(train_tweets, train_labels, os.path.join(ROOT_PATH, \"train\", \"data.h5\"))\n",
        "write_h5py_dataset(test_tweets, test_labels, os.path.join(ROOT_PATH, \"test\", \"data.h5\"))\n",
        "write_h5py_dataset(validation_tweets, validation_labels, os.path.join(ROOT_PATH, \"validation\", \"data.h5\"))\n"
      ],
      "execution_count": 40,
      "outputs": []
    },
    {
      "cell_type": "code",
      "metadata": {
        "id": "5c0HBNY6XVC-"
      },
      "source": [
        ""
      ],
      "execution_count": null,
      "outputs": []
    }
  ]
}